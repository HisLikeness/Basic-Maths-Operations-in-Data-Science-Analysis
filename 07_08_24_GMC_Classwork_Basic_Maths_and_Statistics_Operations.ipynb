{
  "nbformat": 4,
  "nbformat_minor": 0,
  "metadata": {
    "colab": {
      "provenance": []
    },
    "kernelspec": {
      "name": "python3",
      "display_name": "Python 3"
    },
    "language_info": {
      "name": "python"
    }
  },
  "cells": [
    {
      "cell_type": "code",
      "execution_count": null,
      "metadata": {
        "colab": {
          "base_uri": "https://localhost:8080/"
        },
        "id": "YSGZnosHPM6R",
        "outputId": "3f73e254-c852-4405-cee9-cbd4a68b22b0"
      },
      "outputs": [
        {
          "output_type": "stream",
          "name": "stdout",
          "text": [
            "22.866666666666667\n"
          ]
        }
      ],
      "source": [
        "import numpy as np\n",
        "import statistics as st\n",
        "age = [12,15,21,21,18,19,25,30,30,28,29,40,12,18,25]\n",
        "mean_result = np.mean(age)\n",
        "print(mean_result)\n",
        "\n"
      ]
    },
    {
      "cell_type": "code",
      "source": [
        "median_result = np.median(age)\n",
        "print(median_result)"
      ],
      "metadata": {
        "colab": {
          "base_uri": "https://localhost:8080/"
        },
        "id": "IxNpxUZ6TQfg",
        "outputId": "554eabe8-8877-4877-ced5-f37c30d4ef8a"
      },
      "execution_count": null,
      "outputs": [
        {
          "output_type": "stream",
          "name": "stdout",
          "text": [
            "21.0\n"
          ]
        }
      ]
    },
    {
      "cell_type": "code",
      "source": [
        "import statistics as st\n",
        "mode_result = st.mode(age)\n",
        "print(mode_result)"
      ],
      "metadata": {
        "colab": {
          "base_uri": "https://localhost:8080/"
        },
        "id": "vWh-cI4VTl7u",
        "outputId": "a84e23db-0adf-410b-f819-df41ef6dec12"
      },
      "execution_count": null,
      "outputs": [
        {
          "output_type": "stream",
          "name": "stdout",
          "text": [
            "12\n"
          ]
        }
      ]
    },
    {
      "cell_type": "code",
      "source": [
        "std_result = st.stdev(age)\n",
        "print(std_result)"
      ],
      "metadata": {
        "colab": {
          "base_uri": "https://localhost:8080/"
        },
        "id": "5JfAnvNkULTQ",
        "outputId": "0e5d17b5-ad46-401c-810f-886a28893479"
      },
      "execution_count": null,
      "outputs": [
        {
          "output_type": "stream",
          "name": "stdout",
          "text": [
            "7.726269351714196\n"
          ]
        }
      ]
    },
    {
      "cell_type": "code",
      "source": [
        "var_result = st.variance(age)\n",
        "print(var_result)"
      ],
      "metadata": {
        "colab": {
          "base_uri": "https://localhost:8080/"
        },
        "id": "Bfw_zwfHUjlz",
        "outputId": "6ad72f2c-f35f-48c1-e05f-684da5d60519"
      },
      "execution_count": null,
      "outputs": [
        {
          "output_type": "stream",
          "name": "stdout",
          "text": [
            "59.695238095238096\n"
          ]
        }
      ]
    },
    {
      "cell_type": "code",
      "source": [
        "height = [45, 67, 23, 67, 89, 34, 56, 67, 89, 12, 90, 45, 67, 34, 56, 78, 23, 45, 67, 89, 12]\n",
        "var_result = st.variance(height)\n",
        "print(var_result)"
      ],
      "metadata": {
        "colab": {
          "base_uri": "https://localhost:8080/"
        },
        "id": "0tydOKeRVMwN",
        "outputId": "58bdbe58-6604-42ec-c36e-c09e92a53ddf"
      },
      "execution_count": null,
      "outputs": [
        {
          "output_type": "stream",
          "name": "stdout",
          "text": [
            "643.6\n"
          ]
        }
      ]
    },
    {
      "cell_type": "code",
      "source": [
        "std_result = st.stdev(height)\n",
        "print(std_result)"
      ],
      "metadata": {
        "colab": {
          "base_uri": "https://localhost:8080/"
        },
        "id": "w-OIpdX3YoqD",
        "outputId": "fca01c60-aec9-4b84-cdfa-7815e74f5b6a"
      },
      "execution_count": null,
      "outputs": [
        {
          "output_type": "stream",
          "name": "stdout",
          "text": [
            "25.369272752682527\n"
          ]
        }
      ]
    },
    {
      "cell_type": "code",
      "source": [
        "percentile_10th = np.percentile(height,10)\n",
        "print(percentile_10th)"
      ],
      "metadata": {
        "colab": {
          "base_uri": "https://localhost:8080/"
        },
        "id": "tCi5RLE4Y3yt",
        "outputId": "58e91a99-7ea2-4b08-f51c-eb487aafd7ec"
      },
      "execution_count": null,
      "outputs": [
        {
          "output_type": "stream",
          "name": "stdout",
          "text": [
            "23.0\n"
          ]
        }
      ]
    },
    {
      "cell_type": "code",
      "source": [
        "percentile_25th = np.percentile(height,25)\n",
        "print(percentile_25th)"
      ],
      "metadata": {
        "colab": {
          "base_uri": "https://localhost:8080/"
        },
        "id": "slzsEJrNZiOc",
        "outputId": "402e57a7-25fb-4dc4-daf4-a4003c2197f1"
      },
      "execution_count": null,
      "outputs": [
        {
          "output_type": "stream",
          "name": "stdout",
          "text": [
            "34.0\n"
          ]
        }
      ]
    },
    {
      "cell_type": "code",
      "source": [
        "percentile_50th = np.percentile(height,50)\n",
        "print(percentile_50th)"
      ],
      "metadata": {
        "colab": {
          "base_uri": "https://localhost:8080/"
        },
        "id": "H3H5tAxsZsq9",
        "outputId": "4212df4f-3da4-4f89-a8ce-52a561aa1ee2"
      },
      "execution_count": null,
      "outputs": [
        {
          "output_type": "stream",
          "name": "stdout",
          "text": [
            "56.0\n"
          ]
        }
      ]
    },
    {
      "cell_type": "code",
      "source": [
        "percentile_75th = np.percentile(height,75)\n",
        "print(percentile_75th)"
      ],
      "metadata": {
        "colab": {
          "base_uri": "https://localhost:8080/"
        },
        "id": "QDCMAyyLZ0vy",
        "outputId": "739b3780-d76c-4794-8b13-7441826465e2"
      },
      "execution_count": null,
      "outputs": [
        {
          "output_type": "stream",
          "name": "stdout",
          "text": [
            "67.0\n"
          ]
        }
      ]
    },
    {
      "cell_type": "code",
      "source": [
        "import numpy as np\n",
        "matrix_a = np.array([[3,5,7],[2,4,6],[3,6,9], [9,8,12]])\n",
        "print(matrix_a)"
      ],
      "metadata": {
        "colab": {
          "base_uri": "https://localhost:8080/"
        },
        "id": "ysn4V0wyVnO0",
        "outputId": "2c9ce4b5-39e2-49c4-96c2-41c825231521"
      },
      "execution_count": null,
      "outputs": [
        {
          "output_type": "stream",
          "name": "stdout",
          "text": [
            "[[ 3  5  7]\n",
            " [ 2  4  6]\n",
            " [ 3  6  9]\n",
            " [ 9  8 12]]\n"
          ]
        }
      ]
    },
    {
      "cell_type": "code",
      "source": [
        "matrix_a.shape"
      ],
      "metadata": {
        "colab": {
          "base_uri": "https://localhost:8080/"
        },
        "id": "vUEhAGAoWzZz",
        "outputId": "fa0b3010-9e6e-4a4c-c809-514fc3beaa21"
      },
      "execution_count": null,
      "outputs": [
        {
          "output_type": "execute_result",
          "data": {
            "text/plain": [
              "(4, 3)"
            ]
          },
          "metadata": {},
          "execution_count": 29
        }
      ]
    },
    {
      "cell_type": "code",
      "source": [
        "matrix_b = np.array([[2,4,6],[3,7,2],[1,3,5],[8,1,4]])\n",
        "print(matrix_b)"
      ],
      "metadata": {
        "colab": {
          "base_uri": "https://localhost:8080/"
        },
        "id": "o15Z8354XQFH",
        "outputId": "5aa9fc99-0af5-4efc-df0c-6447460dfcf2"
      },
      "execution_count": null,
      "outputs": [
        {
          "output_type": "stream",
          "name": "stdout",
          "text": [
            "[[2 4 6]\n",
            " [3 7 2]\n",
            " [1 3 5]\n",
            " [8 1 4]]\n"
          ]
        }
      ]
    },
    {
      "cell_type": "code",
      "source": [
        "matrix_b.shape"
      ],
      "metadata": {
        "colab": {
          "base_uri": "https://localhost:8080/"
        },
        "id": "PDEO60WyX19S",
        "outputId": "98ead150-347d-4d92-cd0e-1c4abf7dc62a"
      },
      "execution_count": null,
      "outputs": [
        {
          "output_type": "execute_result",
          "data": {
            "text/plain": [
              "(4, 3)"
            ]
          },
          "metadata": {},
          "execution_count": 30
        }
      ]
    },
    {
      "cell_type": "code",
      "source": [
        "addition = matrix_a + matrix_b\n",
        "print(addition)"
      ],
      "metadata": {
        "colab": {
          "base_uri": "https://localhost:8080/"
        },
        "id": "s43-rdGCX_cB",
        "outputId": "d62e4fb1-4d8a-4d45-d523-5d23e3fb88c0"
      },
      "execution_count": null,
      "outputs": [
        {
          "output_type": "stream",
          "name": "stdout",
          "text": [
            "[[ 5  9 13]\n",
            " [ 5 11  8]\n",
            " [ 4  9 14]\n",
            " [17  9 16]]\n"
          ]
        }
      ]
    },
    {
      "cell_type": "code",
      "source": [
        "subtraction = matrix_a - matrix_b\n",
        "print(subtraction)"
      ],
      "metadata": {
        "colab": {
          "base_uri": "https://localhost:8080/"
        },
        "id": "CJlFfa_9YnHW",
        "outputId": "fa8aa311-2e8c-40d4-bc39-dc8f739cab63"
      },
      "execution_count": null,
      "outputs": [
        {
          "output_type": "stream",
          "name": "stdout",
          "text": [
            "[[ 1  1  1]\n",
            " [-1 -3  4]\n",
            " [ 2  3  4]\n",
            " [ 1  7  8]]\n"
          ]
        }
      ]
    },
    {
      "cell_type": "code",
      "source": [
        "multiplication = matrix_a + matrix_b\n",
        "print(multiplication)"
      ],
      "metadata": {
        "colab": {
          "base_uri": "https://localhost:8080/"
        },
        "id": "8S_pKBl2Y3kJ",
        "outputId": "5079067d-d0ed-49a3-ee05-6bf1f4abf0f1"
      },
      "execution_count": null,
      "outputs": [
        {
          "output_type": "stream",
          "name": "stdout",
          "text": [
            "[[ 5  9 13]\n",
            " [ 5 11  8]\n",
            " [ 4  9 14]\n",
            " [17  9 16]]\n"
          ]
        }
      ]
    },
    {
      "cell_type": "code",
      "source": [
        "scalar = [-2]\n",
        "print(scalar + matrix_a)"
      ],
      "metadata": {
        "colab": {
          "base_uri": "https://localhost:8080/"
        },
        "id": "G4aq86rbZ9Qb",
        "outputId": "e3d8134a-79f1-4860-bf2a-6af905b653f0"
      },
      "execution_count": null,
      "outputs": [
        {
          "output_type": "stream",
          "name": "stdout",
          "text": [
            "[[ 1  3  5]\n",
            " [ 0  2  4]\n",
            " [ 1  4  7]\n",
            " [ 7  6 10]]\n"
          ]
        }
      ]
    },
    {
      "cell_type": "code",
      "source": [
        "print(scalar * matrix_b)"
      ],
      "metadata": {
        "colab": {
          "base_uri": "https://localhost:8080/"
        },
        "id": "CwXTWmv_acVI",
        "outputId": "a2b61389-a225-4661-c9b8-20358bb09bb1"
      },
      "execution_count": null,
      "outputs": [
        {
          "output_type": "stream",
          "name": "stdout",
          "text": [
            "[[ -4  -8 -12]\n",
            " [ -6 -14  -4]\n",
            " [ -2  -6 -10]\n",
            " [-16  -2  -8]]\n"
          ]
        }
      ]
    },
    {
      "cell_type": "code",
      "source": [
        "trans = np.transpose(matrix_a)\n",
        "print(trans)"
      ],
      "metadata": {
        "colab": {
          "base_uri": "https://localhost:8080/"
        },
        "id": "JGrkdbJGekYx",
        "outputId": "76c90dd8-a662-47f3-dc43-9a44f539f676"
      },
      "execution_count": null,
      "outputs": [
        {
          "output_type": "stream",
          "name": "stdout",
          "text": [
            "[[ 3  2  3  9]\n",
            " [ 5  4  6  8]\n",
            " [ 7  6  9 12]]\n"
          ]
        }
      ]
    },
    {
      "cell_type": "code",
      "source": [
        "tran.shape"
      ],
      "metadata": {
        "colab": {
          "base_uri": "https://localhost:8080/"
        },
        "id": "vlO0_948e4u_",
        "outputId": "c767cea4-61a2-4136-b834-203e235d856e"
      },
      "execution_count": null,
      "outputs": [
        {
          "output_type": "execute_result",
          "data": {
            "text/plain": [
              "(3, 4)"
            ]
          },
          "metadata": {},
          "execution_count": 32
        }
      ]
    },
    {
      "cell_type": "markdown",
      "source": [
        "Checkpoint:\n",
        "Create two matrices with 2 rows and 3 columns. Identify the type of matrix"
      ],
      "metadata": {
        "id": "ol0hYDFgsdNz"
      }
    },
    {
      "cell_type": "code",
      "source": [
        "matrix_x = np.array([[2,5,8],[3,4,5]])\n",
        "print(matrix_x)"
      ],
      "metadata": {
        "colab": {
          "base_uri": "https://localhost:8080/"
        },
        "id": "JmI3deQEnwv2",
        "outputId": "6476fdf3-6096-46b1-b59c-894d86ea69e0"
      },
      "execution_count": null,
      "outputs": [
        {
          "output_type": "stream",
          "name": "stdout",
          "text": [
            "[[2 5 8]\n",
            " [3 4 5]]\n"
          ]
        }
      ]
    },
    {
      "cell_type": "code",
      "source": [
        "matrix_x.shape"
      ],
      "metadata": {
        "colab": {
          "base_uri": "https://localhost:8080/"
        },
        "id": "jbXlYPn3oSqb",
        "outputId": "42abeb13-c5a7-4608-e245-53631a35b416"
      },
      "execution_count": null,
      "outputs": [
        {
          "output_type": "execute_result",
          "data": {
            "text/plain": [
              "(2, 3)"
            ]
          },
          "metadata": {},
          "execution_count": 52
        }
      ]
    },
    {
      "cell_type": "code",
      "source": [
        "matrix_y = np.array([[3,2,4],[4,6,1]])\n",
        "print(matrix_y)"
      ],
      "metadata": {
        "colab": {
          "base_uri": "https://localhost:8080/"
        },
        "id": "BPQfhTT4oYDY",
        "outputId": "2ed1e2c3-6dea-47b8-8839-27939346e059"
      },
      "execution_count": null,
      "outputs": [
        {
          "output_type": "stream",
          "name": "stdout",
          "text": [
            "[[3 2 4]\n",
            " [4 6 1]]\n"
          ]
        }
      ]
    },
    {
      "cell_type": "code",
      "source": [
        "matrix_y.shape"
      ],
      "metadata": {
        "colab": {
          "base_uri": "https://localhost:8080/"
        },
        "id": "vzMal2a3ovas",
        "outputId": "8a2b99e9-e9a7-45eb-b16d-4369d8c7d855"
      },
      "execution_count": null,
      "outputs": [
        {
          "output_type": "execute_result",
          "data": {
            "text/plain": [
              "(2, 3)"
            ]
          },
          "metadata": {},
          "execution_count": 45
        }
      ]
    },
    {
      "cell_type": "markdown",
      "source": [
        "Calculate the Mean, median and Mode of the matrices"
      ],
      "metadata": {
        "id": "yzloMPGEs1f8"
      }
    },
    {
      "cell_type": "code",
      "source": [
        "print(np.mean(matrix_x))"
      ],
      "metadata": {
        "colab": {
          "base_uri": "https://localhost:8080/"
        },
        "id": "gZ-7JFg5o-SX",
        "outputId": "e2eda94b-ff4a-4474-ae1c-dc3f5723a425"
      },
      "execution_count": null,
      "outputs": [
        {
          "output_type": "stream",
          "name": "stdout",
          "text": [
            "4.5\n"
          ]
        }
      ]
    },
    {
      "cell_type": "code",
      "source": [
        "print(np.mean(matrix_y))"
      ],
      "metadata": {
        "colab": {
          "base_uri": "https://localhost:8080/"
        },
        "id": "3-Ti0ElrpK-d",
        "outputId": "f32fafcc-9dce-4a6f-f8e3-ea928ed7545a"
      },
      "execution_count": null,
      "outputs": [
        {
          "output_type": "stream",
          "name": "stdout",
          "text": [
            "3.3333333333333335\n"
          ]
        }
      ]
    },
    {
      "cell_type": "code",
      "source": [
        "print(np.median(matrix_x))"
      ],
      "metadata": {
        "colab": {
          "base_uri": "https://localhost:8080/"
        },
        "id": "0DAl-r2NpPJ4",
        "outputId": "67bca69a-fbae-42df-db10-31307466a638"
      },
      "execution_count": null,
      "outputs": [
        {
          "output_type": "stream",
          "name": "stdout",
          "text": [
            "4.5\n"
          ]
        }
      ]
    },
    {
      "cell_type": "code",
      "source": [
        "print(np.median(matrix_y))"
      ],
      "metadata": {
        "colab": {
          "base_uri": "https://localhost:8080/"
        },
        "id": "Q0mAxEFOpVQu",
        "outputId": "d0532c9f-a770-4429-ad85-a20621207236"
      },
      "execution_count": null,
      "outputs": [
        {
          "output_type": "stream",
          "name": "stdout",
          "text": [
            "3.5\n"
          ]
        }
      ]
    },
    {
      "cell_type": "code",
      "source": [
        "from scipy import stats\n",
        "mode = stats.mode(matrix_x)\n",
        "print(mode)"
      ],
      "metadata": {
        "colab": {
          "base_uri": "https://localhost:8080/"
        },
        "id": "68rxvuuJpncf",
        "outputId": "90f61b65-967e-4118-882e-e5c8cf2d24e3"
      },
      "execution_count": null,
      "outputs": [
        {
          "output_type": "stream",
          "name": "stdout",
          "text": [
            "ModeResult(mode=array([2, 4, 5]), count=array([1, 1, 1]))\n"
          ]
        }
      ]
    },
    {
      "cell_type": "code",
      "source": [
        "mode = stats.mode(matrix_y)\n",
        "print(mode)"
      ],
      "metadata": {
        "colab": {
          "base_uri": "https://localhost:8080/"
        },
        "id": "MSFbMFcHp0b2",
        "outputId": "7078b51c-eb8a-4724-f41a-dcaf4b121a6e"
      },
      "execution_count": null,
      "outputs": [
        {
          "output_type": "stream",
          "name": "stdout",
          "text": [
            "ModeResult(mode=array([3, 2, 1]), count=array([1, 1, 1]))\n"
          ]
        }
      ]
    },
    {
      "cell_type": "code",
      "source": [
        "flat_matrixX = matrix_x.flatten()\n",
        "print(flat_matrixX)"
      ],
      "metadata": {
        "colab": {
          "base_uri": "https://localhost:8080/"
        },
        "id": "NfG-suNGrQGz",
        "outputId": "4a72d2e1-b5f2-4187-8152-8b147c4777ae"
      },
      "execution_count": null,
      "outputs": [
        {
          "output_type": "stream",
          "name": "stdout",
          "text": [
            "[2 5 8 3 4 5]\n"
          ]
        }
      ]
    },
    {
      "cell_type": "code",
      "source": [
        "import statistics as st\n",
        "mode = st.mode(flat_matrixX)\n",
        "print(mode)"
      ],
      "metadata": {
        "colab": {
          "base_uri": "https://localhost:8080/"
        },
        "id": "Ryk8tRUurkAE",
        "outputId": "432d5053-2446-4e4c-add5-e6e5ae365ce3"
      },
      "execution_count": null,
      "outputs": [
        {
          "output_type": "stream",
          "name": "stdout",
          "text": [
            "5\n"
          ]
        }
      ]
    },
    {
      "cell_type": "code",
      "source": [
        "flat_matrixY = matrix_y.flatten()\n",
        "print(flat_matrixY)"
      ],
      "metadata": {
        "colab": {
          "base_uri": "https://localhost:8080/"
        },
        "id": "sy2hHtdVsJqZ",
        "outputId": "7bda32fc-a77d-45bc-91a7-cc427c287df1"
      },
      "execution_count": null,
      "outputs": [
        {
          "output_type": "stream",
          "name": "stdout",
          "text": [
            "[3 2 4 4 6 1]\n"
          ]
        }
      ]
    },
    {
      "cell_type": "code",
      "source": [
        "mode = st.mode(flat_matrixY)\n",
        "print(mode)"
      ],
      "metadata": {
        "colab": {
          "base_uri": "https://localhost:8080/"
        },
        "id": "dMCZnyTLsRq5",
        "outputId": "6a2873a6-e0f1-4c19-e3f4-b47345fb7b5a"
      },
      "execution_count": null,
      "outputs": [
        {
          "output_type": "stream",
          "name": "stdout",
          "text": [
            "4\n"
          ]
        }
      ]
    },
    {
      "cell_type": "markdown",
      "source": [
        "Perform basic matrix operations (addition, subtraction, transpose and scalar multiplication) on the matrix."
      ],
      "metadata": {
        "id": "xwhp9db4s9pg"
      }
    },
    {
      "cell_type": "markdown",
      "source": [
        "Addition"
      ],
      "metadata": {
        "id": "NQOwRysutKJ7"
      }
    },
    {
      "cell_type": "code",
      "source": [
        "addition = matrix_x + matrix_y\n",
        "print(addition)"
      ],
      "metadata": {
        "colab": {
          "base_uri": "https://localhost:8080/"
        },
        "id": "E-_4Qvj2tLy7",
        "outputId": "39390cd1-650a-43b1-a731-2105336c2133"
      },
      "execution_count": null,
      "outputs": [
        {
          "output_type": "stream",
          "name": "stdout",
          "text": [
            "[[ 5  7 12]\n",
            " [ 7 10  6]]\n"
          ]
        }
      ]
    },
    {
      "cell_type": "markdown",
      "source": [
        "Subtraction"
      ],
      "metadata": {
        "id": "mnLCebSotX40"
      }
    },
    {
      "cell_type": "code",
      "source": [
        "subtraction = matrix_x + matrix_y\n",
        "print(subtraction)"
      ],
      "metadata": {
        "colab": {
          "base_uri": "https://localhost:8080/"
        },
        "id": "DbRF1Qkotd7Q",
        "outputId": "b5410ed5-e5ff-4121-e361-65dfd1bf0dc5"
      },
      "execution_count": null,
      "outputs": [
        {
          "output_type": "stream",
          "name": "stdout",
          "text": [
            "[[ 5  7 12]\n",
            " [ 7 10  6]]\n"
          ]
        }
      ]
    },
    {
      "cell_type": "markdown",
      "source": [
        "Transpose"
      ],
      "metadata": {
        "id": "JMOYMp3Jtnb9"
      }
    },
    {
      "cell_type": "code",
      "source": [
        "trans = np.transpose(matrix_x)\n",
        "print(trans)"
      ],
      "metadata": {
        "colab": {
          "base_uri": "https://localhost:8080/"
        },
        "id": "0TUIxZaVtpRZ",
        "outputId": "7390210a-1f30-4912-a12f-046525a8d170"
      },
      "execution_count": null,
      "outputs": [
        {
          "output_type": "stream",
          "name": "stdout",
          "text": [
            "[[2 3]\n",
            " [5 4]\n",
            " [8 5]]\n"
          ]
        }
      ]
    },
    {
      "cell_type": "code",
      "source": [
        "trans = np.transpose(matrix_y)\n",
        "print(trans)"
      ],
      "metadata": {
        "colab": {
          "base_uri": "https://localhost:8080/"
        },
        "id": "xVi8tfaytwuE",
        "outputId": "8b83c2bf-e41e-4e9a-ff50-1b803f83f6ce"
      },
      "execution_count": null,
      "outputs": [
        {
          "output_type": "stream",
          "name": "stdout",
          "text": [
            "[[3 4]\n",
            " [2 6]\n",
            " [4 1]]\n"
          ]
        }
      ]
    },
    {
      "cell_type": "markdown",
      "source": [
        "Scalar Multiplication"
      ],
      "metadata": {
        "id": "UXe2kCx7t07B"
      }
    },
    {
      "cell_type": "code",
      "source": [
        "scalar = [3]\n",
        "print(scalar * matrix_x)\n"
      ],
      "metadata": {
        "colab": {
          "base_uri": "https://localhost:8080/"
        },
        "id": "GpI5lfkCt63-",
        "outputId": "7445aaf1-2e03-4d3f-a513-b5cee044e230"
      },
      "execution_count": null,
      "outputs": [
        {
          "output_type": "stream",
          "name": "stdout",
          "text": [
            "[[ 6 15 24]\n",
            " [ 9 12 15]]\n"
          ]
        }
      ]
    },
    {
      "cell_type": "code",
      "source": [
        "print(scalar * matrix_y)"
      ],
      "metadata": {
        "colab": {
          "base_uri": "https://localhost:8080/"
        },
        "id": "7qfJZHwDuLod",
        "outputId": "a9fde3bf-5f61-4472-c16b-d60cfa80eafb"
      },
      "execution_count": null,
      "outputs": [
        {
          "output_type": "stream",
          "name": "stdout",
          "text": [
            "[[ 9  6 12]\n",
            " [12 18  3]]\n"
          ]
        }
      ]
    },
    {
      "cell_type": "markdown",
      "source": [
        "Real world application of Matrices and how they are used'\n",
        "\n",
        "Matrices have numerous real-world applications across various fields, including:\n",
        "\n",
        "1. Computer Graphics: Matrices are used to perform transformations, rotations, and scaling of objects in 2D and 3D space, creating realistic graphics and animations.\n",
        "\n",
        "2. Data Analysis: Matrices are used in data mining, statistics, and machine learning to represent and manipulate large datasets, enabling data visualization, clustering, and prediction.\n",
        "\n",
        "3. Cryptography: Matrices are used to develop secure encryption algorithms, like the Hill Cipher, to protect sensitive information.\n",
        "\n",
        "4. Network Analysis: Matrices represent complex networks, like social networks, traffic patterns, and electrical circuits, helping analyze connectivity and optimize performance.\n",
        "\n",
        "5. Physics and Engineering: Matrices describe linear systems, like electrical circuits, mechanical systems, and quantum mechanics, facilitating calculations and simulations.\n",
        "\n",
        "6. Image Processing: Matrices are used in image filtering, convolution, and transformation, enhancing image quality and extracting features.\n",
        "\n",
        "7. Economics: Matrices model economic systems, helping analyze supply and demand, resource allocation, and economic growth.\n",
        "\n",
        "8. Biology: Matrices represent population dynamics, chemical reactions, and biological networks, enabling simulations and predictions.\n",
        "\n",
        "9. Navigation and Control: Matrices are used in GPS, robotics, and control systems to determine positions, velocities, and optimize control strategies.\n",
        "\n",
        "10. Medical Imaging: Matrices reconstruct images from data in MRI and CT scans, helping diagnose and treat medical conditions.\n",
        "\n"
      ],
      "metadata": {
        "id": "miwwXSEqvELr"
      }
    }
  ]
}